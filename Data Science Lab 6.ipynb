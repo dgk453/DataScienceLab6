{
 "cells": [
  {
   "cell_type": "markdown",
   "metadata": {
    "id": "vMQXDZXXN8q2"
   },
   "source": [
    "# Data Science Lab: Lab 6\n",
    "\n",
    "Submit:\n",
    "\n",
    "A pdf of your notebook with solutions.\n",
    "A link to your colab notebook or also upload your .ipynb if not working on colab.\n",
    "\n",
    "# Goals of this Lab\n",
    "\n",
    "**Fully Connected Models and XOR**\n",
    "\n",
    "\n",
    "1. How to create data objects that pytorch can use\n",
    "2. How to create a dataloader\n",
    "3. How to define a basic fully connected single layer model\n",
    "4. How to define a multi-layer fully connected model\n",
    "5. How to add non-linear activation functions.\n",
    "6. How to add layers in two different ways\n",
    "\n",
    "We also see the importance of nonlinear activation functions directly, by experimenting with the simple 4-data-point XOR example that we saw in class.\n",
    "\n",
    "We also see that neural networks are fundamentally different than, say, logistic regression or linear regression, in that they can get stuck in local minima. A simple way to say this is that a different random seed may lead to a different solution.\n",
    "\n",
    "We explore how capacity (the size of the neural network) could affect this situation.\n",
    "\n",
    "**Note:** Make sure that you fix a random seed so that you can replicate your solutions. This is always a good practice, and in particular important here, as we see below."
   ]
  },
  {
   "cell_type": "code",
   "execution_count": 7,
   "metadata": {
    "id": "T6k-hagH8H0l"
   },
   "outputs": [],
   "source": [
    "import torch\n",
    "import numpy as np\n",
    "import time\n",
    "from tqdm.notebook import tqdm"
   ]
  },
  {
   "cell_type": "markdown",
   "metadata": {
    "id": "-LLf1qGBkNx4"
   },
   "source": [
    "# First we define a linear regressor.\n",
    "This is the same as a fully connected layer. It will be a building block in making deeper neural networks with fully connected layers."
   ]
  },
  {
   "cell_type": "code",
   "execution_count": 8,
   "metadata": {
    "id": "5ikI4E7WXrCQ"
   },
   "outputs": [],
   "source": [
    "# We define our first class: LinearRegressor\n",
    "#\n",
    "class LinearRegressor(torch.nn.Module):\n",
    "    def __init__(self, input_dim, output_dim):\n",
    "        \"\"\"\n",
    "        Define the layer(s) needed for the linear model.\n",
    "        \"\"\"\n",
    "        super().__init__()\n",
    "        self.linear = torch.nn.Linear(input_dim, output_dim, bias = True) # just linear\n",
    "\n",
    "    def forward(self, x):\n",
    "        \"\"\"\n",
    "        Calculate the regression score (MSE).\n",
    "\n",
    "        Input:\n",
    "            x (float tensor N x d): input rows\n",
    "        Output:\n",
    "            y (float tensor N x 1): regression output\n",
    "        \"\"\"\n",
    "        x = self.linear(x)\n",
    "        return torch.flatten(x)\n",
    "\n",
    "\n",
    "    # defining a separate predict function is useful for multi-class\n",
    "    # classification as we will see later. Here it is\n",
    "    # unnecessary.\n",
    "\n",
    "    def predict(self, x):\n",
    "        \"\"\"\n",
    "        Predict the regression label of the input vector.\n",
    "\n",
    "        Input:\n",
    "            x (float tensor N X d): input images\n",
    "        Output:\n",
    "            y (float tensor N x 1): regression output\n",
    "        \"\"\"\n",
    "        x = self.linear(x)\n",
    "        return torch.flatten(x)\n",
    "\n",
    "\n"
   ]
  },
  {
   "cell_type": "markdown",
   "metadata": {
    "id": "36zhuTCUkZXT"
   },
   "source": [
    "## Problem 1:\n",
    "\n",
    "Now you will use torch.nn.Sequential (see https://pytorch.org/docs/stable/generated/torch.nn.Sequential.html) to construct a two layer neural network, with two fully connected layers (no non-linearity yet). Thus, you will combine torch.nn.Sequential with torch.nn.Linear that you saw above.\n",
    "\n",
    "\n",
    "Design your network so that the first layer has as many neurons as the input.\n",
    "\n",
    "Note: you have only one line to fill in here."
   ]
  },
  {
   "cell_type": "code",
   "execution_count": 9,
   "metadata": {
    "id": "0LpZdyIOjlr4"
   },
   "outputs": [],
   "source": [
    "class TwoLayerLinearRegressor(torch.nn.Module):\n",
    "    def __init__(self, input_dim, output_dim):\n",
    "        \"\"\"\n",
    "        Define a model that stacks two linear fully connected layers.\n",
    "        \"\"\"\n",
    "        super().__init__()\n",
    "        self.TLL = torch.nn.Sequential(\n",
    "            LinearRegressor(input_dim, input_dim),\n",
    "            LinearRegressor(input_dim, output_dim)\n",
    "        )# TO DO: complete this equality, using torch.nn.Sequential\n",
    " \n",
    "    def forward(self, x):\n",
    "        \"\"\"\n",
    "        Calculate the regression score (MSE).\n",
    "\n",
    "        Input:\n",
    "            x (float tensor N x d): input rows\n",
    "        Output:\n",
    "            y (float tensor N x 1): regression output\n",
    "        \"\"\"\n",
    "        x = self.TLL(x)\n",
    "        return torch.flatten(x)\n",
    "\n",
    "    def predict(self, x):\n",
    "        \"\"\"\n",
    "        Predict the regression label of the input vector.\n",
    "\n",
    "        Input:\n",
    "            x (float tensor N X d): input images\n",
    "        Output:\n",
    "            y (float tensor N x 1): regression output\n",
    "        \"\"\"\n",
    "        x = self.TLL(x)\n",
    "        return torch.flatten(x)\n",
    "\n",
    "\n",
    "\n",
    "\n"
   ]
  },
  {
   "cell_type": "markdown",
   "metadata": {
    "id": "A9JRe7K3lQx7"
   },
   "source": [
    "## Problem 2\n",
    "\n",
    "Now you will create the same network, but using different syntax: you will not use torch.nn.Sequential. You need to fill in the two lines as noted by the comments."
   ]
  },
  {
   "cell_type": "code",
   "execution_count": 10,
   "metadata": {
    "id": "vZSpFBJdj-Da"
   },
   "outputs": [],
   "source": [
    "class TwoLayerLinearRegressor2(torch.nn.Module):\n",
    "    def __init__(self, input_dim, output_dim):\n",
    "        \"\"\"\n",
    "        Define a model that stacks two linear fully connected layers.\n",
    "        \"\"\"\n",
    "        super().__init__()\n",
    "        self.fc1 = LinearRegressor(input_dim, input_dim)  # First fully connected layer\n",
    "        self.fc2 = LinearRegressor(input_dim, output_dim)  # Second fully connected layer\n",
    "\n",
    "\n",
    "    def forward(self, x):\n",
    "        \"\"\"\n",
    "        Calculate the regression score (MSE).\n",
    "\n",
    "        Input:\n",
    "            x (float tensor N x d): input rows\n",
    "        Output:\n",
    "            y (float tensor N x 1): regression output\n",
    "        \"\"\"\n",
    "\n",
    "        x = self.fc1(x)\n",
    "        x = self.fc2(x)\n",
    "        return torch.flatten(x)\n",
    "\n",
    "    def predict(self, x):\n",
    "        \"\"\"\n",
    "        Predict the regression label of the input vector.\n",
    "\n",
    "        Input:\n",
    "            x (float tensor N X d): input images\n",
    "        Output:\n",
    "            y (float tensor N x 1): regression output\n",
    "        \"\"\"\n",
    "        x = self.fc1(x)\n",
    "        x = self.fc2(x)\n",
    "        return torch.flatten(x)\n"
   ]
  },
  {
   "cell_type": "markdown",
   "metadata": {
    "id": "pTKDb01ilnks"
   },
   "source": [
    "## Problem 3\n",
    "\n",
    "Now you will define a 2 layer neural network with ReLU activation at the first layer. In other words:\n",
    "\n",
    "Let $x$ be the input.\n",
    "Then writing $z = Wx + c$, $h=$ReLU$(z)$ is the first layer's neurons. Then the output is $y = w\\cdot z+d$.\n",
    "\n",
    "Create this neural network using the torch.nn.Sequential command. Conceptually, it may help to realize that this neural network is: a fully connected layer followed by a ReLU, followed by a fully connected layer.\n",
    "\n",
    "Also see: https://pytorch.org/docs/stable/generated/torch.nn.ReLU.html\n",
    "\n",
    "Note: You have only one line to fill in here."
   ]
  },
  {
   "cell_type": "code",
   "execution_count": 11,
   "metadata": {
    "id": "031WUqCajrJ_"
   },
   "outputs": [],
   "source": [
    "class TwoLayerNonLinearRegressor(torch.nn.Module):\n",
    "    def __init__(self, input_dim, output_dim):\n",
    "        \"\"\"\n",
    "        Define a model that has a linear layer, a ReLU layer and another linear layer.\n",
    "        \"\"\"\n",
    "        super().__init__()\n",
    "        self.linear = torch.nn.Sequential(\n",
    "            LinearRegressor(input_dim, input_dim),\n",
    "            torch.nn.ReLU(),\n",
    "            LinearRegressor(input_dim, output_dim)\n",
    "        )\n",
    "    def forward(self, x):\n",
    "        \"\"\"\n",
    "        Calculate the regression score (MSE).\n",
    "\n",
    "        Input:\n",
    "            x (float tensor N x d): input rows\n",
    "        Output:\n",
    "            y (float tensor N x 1): regression output\n",
    "        \"\"\"\n",
    "        x = self.linear(x)\n",
    "        return torch.flatten(x)\n",
    "\n",
    "    def predict(self, x):\n",
    "        \"\"\"\n",
    "        Predict the regression label of the input vector.\n",
    "\n",
    "        Input:\n",
    "            x (float tensor N X d): input images\n",
    "        Output:\n",
    "            y (float tensor N x 1): regression output\n",
    "        \"\"\"\n",
    "        x = self.linear(x)\n",
    "        return torch.flatten(x)\n",
    "\n"
   ]
  },
  {
   "cell_type": "markdown",
   "metadata": {
    "id": "ApkXVRwfmaXj"
   },
   "source": [
    "## Problem 4\n",
    "\n",
    "Do this one more time, but now without torch.nn.Sequential.\n",
    "\n",
    "You have three lines to fill in here."
   ]
  },
  {
   "cell_type": "code",
   "execution_count": 12,
   "metadata": {
    "id": "W7CrOFr8jtdp"
   },
   "outputs": [],
   "source": [
    "# We now do this again, without using nn.sequential\n",
    "# in order to illustrate different syntax.\n",
    "\n",
    "class TwoLayerNonLinearRegressor2(torch.nn.Module):\n",
    "    def __init__(self, input_dim, output_dim):\n",
    "        \"\"\"\n",
    "        Define a model that has a linear layer, a ReLU layer and another linear layer.\n",
    "        \"\"\"\n",
    "        super().__init__()\n",
    "        self.fc1 = LinearRegressor(input_dim, input_dim)  # First linear layer\n",
    "        self.relu = torch.nn.ReLU()                       # ReLU activation\n",
    "        self.fc2 = LinearRegressor(input_dim, output_dim) # Second linear layer\n",
    "\n",
    "    def forward(self, x):\n",
    "        \"\"\"\n",
    "        Calculate the regression score (MSE).\n",
    "\n",
    "        Input:\n",
    "            x (float tensor N x d): input rows\n",
    "        Output:\n",
    "            y (float tensor N x 1): regression output\n",
    "        \"\"\"\n",
    "\n",
    "        x = self.fc1(x)\n",
    "        x = self.relu(x)\n",
    "        x = self.fc2(x)\n",
    "        return torch.flatten(x)\n",
    "\n",
    "    def predict(self, x):\n",
    "        \"\"\"\n",
    "        Predict the regression label of the input vector.\n",
    "\n",
    "        Input:\n",
    "            x (float tensor N X d): input images\n",
    "        Output:\n",
    "            y (float tensor N x 1): regression output\n",
    "        \"\"\"\n",
    "        x = self.fc1(x)\n",
    "        x = self.relu(x)\n",
    "        x = self.fc2(x)\n",
    "        return torch.flatten(x)"
   ]
  },
  {
   "cell_type": "markdown",
   "metadata": {
    "id": "7-7v8qRLmk3b"
   },
   "source": [
    "## Problem 5 (Nothing to turn in)\n",
    "\n",
    "Read the documentation https://pytorch.org/docs/stable/optim.html to see what are the options pytorch provides for an optimizer, and what the parameters are."
   ]
  },
  {
   "cell_type": "markdown",
   "metadata": {
    "id": "-oYjzlVqve2K"
   },
   "source": [
    "## Problem 6\n",
    "\n",
    "Explain what the code\n",
    "\n",
    "\n",
    "```\n",
    "device = torch.device('cuda' if torch.cuda.is_available() else 'cpu')\n",
    "```\n",
    "and\n",
    "\n",
    "\n",
    "```\n",
    "model.to(device)\n",
    "x = x.to(device)\n",
    "y = y.to(device)\n",
    "```\n",
    "\n",
    "does. This does not have to be a completely rigorous definition -- just explain enough to make clear that you understand what the code is doing and why it's important.\n",
    "\n"
   ]
  },
  {
   "cell_type": "markdown",
   "metadata": {},
   "source": [
    "The code \n",
    "```\n",
    "device = torch.device('cuda' if torch.cuda.is_available() else 'cpu')\n",
    "```\n",
    "checks if the compute/computer you are running the model and pytorch on has cuda and determines what device to run on based on the result. Cuda is a parallel computing platform on NVIDIA GPUs that allow for parallel processing that is used to speed up and optimize AI model and machine learning performance. The code basically determines tries to optimize the performance of the model and code by running the code on the GPU and CUDA if the computer has CUDA. Otherwise, it runs the code on the cpu. CUDA and its implementation with PyTorch are the reason why NVIDIA is the most valuable company in the world with the rise of AI and need for compute. "
   ]
  },
  {
   "cell_type": "markdown",
   "metadata": {
    "id": "6r3mmQ0y5JxO"
   },
   "source": [
    "## Problem 7\n",
    "\n",
    "Modify the code below for the training loop, so that in addition to training, you output a curve of the training error over each epoch."
   ]
  },
  {
   "cell_type": "code",
   "execution_count": 13,
   "metadata": {
    "id": "-gYODAFizPe-"
   },
   "outputs": [],
   "source": [
    "import torch\n",
    "import matplotlib.pyplot as plt\n",
    "from tqdm import tqdm\n",
    "\n",
    "def train(model, data_train, data_val, device, lr=0.01, epochs=5000):\n",
    "    \"\"\"\n",
    "    Train the model.\n",
    "\n",
    "    Input:\n",
    "      model (torch.nn.Module): the model to train\n",
    "      data_train (torch.utils.data.Dataloader): yields batches of data\n",
    "      data_val (torch.utils.data.Dataloader): use this to validate your model\n",
    "      device (torch.device): which device to use to perform computation\n",
    "\n",
    "      (optional) lr: learning rate hyperparameter\n",
    "      (optional) epochs: number of passes over dataloader\n",
    "    \"\"\"\n",
    "\n",
    "    # Setup the loss function to use: mean squared error\n",
    "    loss_function = torch.nn.MSELoss(reduction='sum')\n",
    "\n",
    "    # Setup the optimizer -- just generic ADAM\n",
    "    optimizer = torch.optim.Adam(model.parameters(), lr=lr)\n",
    "\n",
    "    # List to store training losses for plotting\n",
    "    training_losses = []\n",
    "\n",
    "    # Wrap in a progress bar.\n",
    "    for epoch in tqdm(range(epochs)):\n",
    "        # Set the model to training mode.\n",
    "        model.train()\n",
    "        \n",
    "        epoch_loss = 0.0  # Accumulate loss over the epoch\n",
    "\n",
    "        for x, y in data_train:\n",
    "            x = x.to(device)\n",
    "            y = y.to(device)\n",
    "\n",
    "            # Forward pass through the network\n",
    "            output = model(x)\n",
    "\n",
    "            # Compute loss\n",
    "            loss = loss_function(output, y)\n",
    "\n",
    "            # Update model weights\n",
    "            optimizer.zero_grad()\n",
    "            loss.backward()\n",
    "            optimizer.step()\n",
    "\n",
    "            # Accumulate batch loss\n",
    "            epoch_loss += loss.item()\n",
    "\n",
    "        # Calculate average epoch loss and store it\n",
    "        average_epoch_loss = epoch_loss / len(data_train)\n",
    "        training_losses.append(average_epoch_loss)\n",
    "\n",
    "        # Print the average loss every 100 epochs (optional but good practice for actual model training)\n",
    "        if epoch % 100 == 0:\n",
    "            print(f\"Epoch {epoch}/{epochs}, Training Loss: {average_epoch_loss:.4f}\")\n",
    "\n",
    "        # Set the model to eval mode and perform validation\n",
    "        model.eval()\n",
    "        with torch.no_grad():  # No gradient calculation during evaluation\n",
    "            accuracies_val = []\n",
    "\n",
    "            for x, y in data_val:\n",
    "                x = x.to(device)\n",
    "                y = y.to(device)\n",
    "\n",
    "                y_pred = model.predict(x)\n",
    "\n",
    "    # Plot the training error curve once training is complete\n",
    "    plt.plot(training_losses, label=\"Training Loss\")\n",
    "    plt.xlabel(\"Epochs\")\n",
    "    plt.ylabel(\"Mean Squared Error Loss\")\n",
    "    plt.title(\"Training Loss over Epochs\")\n",
    "    plt.legend()\n",
    "    plt.show()\n"
   ]
  },
  {
   "cell_type": "code",
   "execution_count": 14,
   "metadata": {
    "id": "FObDOykPz16p"
   },
   "outputs": [],
   "source": [
    "# We write a function that takes a model, evaluate on the validation\n",
    "# data set and returns the predictions\n",
    "\n",
    "def evaluate_model(model,data_val,device):\n",
    "  model.eval()\n",
    "  output_vals = list()\n",
    "  accuracys_val = list()\n",
    "  for x, y in data_val:\n",
    "            x = x.to(device)\n",
    "            y = y.to(device)\n",
    "\n",
    "            y_pred = model.predict(x)\n",
    "            output_vals.append(y_pred)\n",
    "            # accuracy_val = (y_pred == y).float().mean().item()\n",
    "            # accuracys_val.append(accuracy_val)\n",
    "\n",
    "  # accuracy = torch.FloatTensor(accuracys_val).mean().item()\n",
    "  return output_vals"
   ]
  },
  {
   "cell_type": "markdown",
   "metadata": {
    "id": "JtZYmSP5m7rT"
   },
   "source": [
    "## Problem 8 (Nothing to turn in)\n",
    "\n",
    "Read the documentation and try to understand what a dataloader is. You can start here https://pytorch.org/docs/stable/data.html but there are many tutorials out there as well."
   ]
  },
  {
   "cell_type": "code",
   "execution_count": 15,
   "metadata": {
    "id": "qtVUvfryzIJC"
   },
   "outputs": [
    {
     "name": "stdout",
     "output_type": "stream",
     "text": [
      "These are the labels:\n",
      " [-2.15587179  0.78041724  0.7263875  -2.81503132 -4.01441839  0.76293505\n",
      " -3.46710488  1.74396753 -0.09306204  1.75506386 -0.96785593 -2.02715567\n",
      "  0.52644118  3.99527146  2.96839432]\n",
      "These are the features:\n",
      " [[-2.70748378e-02  1.17260798e-01 -1.00576808e+00]\n",
      " [-2.05924863e-01 -2.41040257e-01  3.72650925e-01]\n",
      " [ 1.87636077e+00 -6.03607502e-01 -8.76790386e-01]\n",
      " [-1.15054488e+00  7.38101852e-01 -4.63192295e-01]\n",
      " [-1.45462696e+00  1.36621127e+00 -5.96790080e-01]\n",
      " [-1.46366880e+00 -9.59586682e-02  1.06532259e+00]\n",
      " [-5.71177073e-01  4.12898196e-01 -1.24151481e+00]\n",
      " [ 2.34238500e+00  9.24629647e-01  1.63106088e-01]\n",
      " [-1.72848559e-01  4.75816763e-01  2.77801642e-01]\n",
      " [-1.31719388e+00 -1.67588519e+00  6.98186274e-01]\n",
      " [ 3.41816872e-01 -1.05817778e+00 -1.18392529e+00]\n",
      " [ 8.04509536e-01  1.53391629e+00 -6.48874458e-01]\n",
      " [ 1.68158980e-03  1.33173792e+00  9.28248755e-01]\n",
      " [ 1.11081265e+00 -1.28807316e-01  1.37782574e+00]\n",
      " [-3.69013013e-02 -6.91501541e-01  1.15689704e+00]]\n"
     ]
    }
   ],
   "source": [
    "# Creating the data: Linear Regression on Linear Data\n",
    "from torch.utils.data import TensorDataset, DataLoader\n",
    "N = 15\n",
    "X = np.random.randn(N,3)\n",
    "beta = np.array([1,-1,2])\n",
    "Y = np.dot(X,beta)\n",
    "tensor_x = torch.Tensor(X) # transform to torch tensor\n",
    "tensor_y = torch.Tensor(Y)\n",
    "print('These are the labels:\\n',Y)\n",
    "print('These are the features:\\n',X)\n",
    "\n",
    "m = 1 # Batch size\n",
    "data = TensorDataset(tensor_x,tensor_y) # create your datset\n",
    "data_train = DataLoader(data,batch_size = m, shuffle = True) # create your dataloader with training data\n",
    "data_val = DataLoader(data) # create your dataloader with validation data, here same as training"
   ]
  },
  {
   "cell_type": "markdown",
   "metadata": {
    "id": "aFTIV3OcnKS8"
   },
   "source": [
    "## Now we train and evaluate the linear model."
   ]
  },
  {
   "cell_type": "code",
   "execution_count": 16,
   "metadata": {
    "id": "BdXFWEN41NBt"
   },
   "outputs": [
    {
     "name": "stderr",
     "output_type": "stream",
     "text": [
      "  0%|          | 12/5000 [00:00<01:19, 62.83it/s]"
     ]
    },
    {
     "name": "stdout",
     "output_type": "stream",
     "text": [
      "Epoch 0/5000, Training Loss: 8.5048\n"
     ]
    },
    {
     "name": "stderr",
     "output_type": "stream",
     "text": [
      "  2%|▏         | 123/5000 [00:01<00:44, 109.08it/s]"
     ]
    },
    {
     "name": "stdout",
     "output_type": "stream",
     "text": [
      "Epoch 100/5000, Training Loss: 0.0000\n"
     ]
    },
    {
     "name": "stderr",
     "output_type": "stream",
     "text": [
      "  4%|▍         | 219/5000 [00:02<00:40, 118.04it/s]"
     ]
    },
    {
     "name": "stdout",
     "output_type": "stream",
     "text": [
      "Epoch 200/5000, Training Loss: 0.0000\n"
     ]
    },
    {
     "name": "stderr",
     "output_type": "stream",
     "text": [
      "  6%|▋         | 315/5000 [00:02<00:41, 113.32it/s]"
     ]
    },
    {
     "name": "stdout",
     "output_type": "stream",
     "text": [
      "Epoch 300/5000, Training Loss: 0.0000\n"
     ]
    },
    {
     "name": "stderr",
     "output_type": "stream",
     "text": [
      "  8%|▊         | 423/5000 [00:03<00:40, 111.71it/s]"
     ]
    },
    {
     "name": "stdout",
     "output_type": "stream",
     "text": [
      "Epoch 400/5000, Training Loss: 0.0000\n"
     ]
    },
    {
     "name": "stderr",
     "output_type": "stream",
     "text": [
      " 10%|█         | 519/5000 [00:04<00:40, 111.32it/s]"
     ]
    },
    {
     "name": "stdout",
     "output_type": "stream",
     "text": [
      "Epoch 500/5000, Training Loss: 0.0000\n"
     ]
    },
    {
     "name": "stderr",
     "output_type": "stream",
     "text": [
      " 12%|█▏        | 615/5000 [00:05<00:38, 113.48it/s]"
     ]
    },
    {
     "name": "stdout",
     "output_type": "stream",
     "text": [
      "Epoch 600/5000, Training Loss: 0.0000\n"
     ]
    },
    {
     "name": "stderr",
     "output_type": "stream",
     "text": [
      " 14%|█▍        | 711/5000 [00:06<00:38, 111.68it/s]"
     ]
    },
    {
     "name": "stdout",
     "output_type": "stream",
     "text": [
      "Epoch 700/5000, Training Loss: 0.0005\n"
     ]
    },
    {
     "name": "stderr",
     "output_type": "stream",
     "text": [
      " 16%|█▋        | 819/5000 [00:07<00:36, 115.18it/s]"
     ]
    },
    {
     "name": "stdout",
     "output_type": "stream",
     "text": [
      "Epoch 800/5000, Training Loss: 0.0005\n"
     ]
    },
    {
     "name": "stderr",
     "output_type": "stream",
     "text": [
      " 18%|█▊        | 915/5000 [00:08<00:36, 110.97it/s]"
     ]
    },
    {
     "name": "stdout",
     "output_type": "stream",
     "text": [
      "Epoch 900/5000, Training Loss: 0.0000\n"
     ]
    },
    {
     "name": "stderr",
     "output_type": "stream",
     "text": [
      " 20%|██        | 1011/5000 [00:09<00:35, 111.12it/s]"
     ]
    },
    {
     "name": "stdout",
     "output_type": "stream",
     "text": [
      "Epoch 1000/5000, Training Loss: 0.0000\n"
     ]
    },
    {
     "name": "stderr",
     "output_type": "stream",
     "text": [
      " 22%|██▏       | 1119/5000 [00:10<00:33, 115.62it/s]"
     ]
    },
    {
     "name": "stdout",
     "output_type": "stream",
     "text": [
      "Epoch 1100/5000, Training Loss: 0.0000\n"
     ]
    },
    {
     "name": "stderr",
     "output_type": "stream",
     "text": [
      " 24%|██▍       | 1215/5000 [00:10<00:32, 115.74it/s]"
     ]
    },
    {
     "name": "stdout",
     "output_type": "stream",
     "text": [
      "Epoch 1200/5000, Training Loss: 0.0000\n"
     ]
    },
    {
     "name": "stderr",
     "output_type": "stream",
     "text": [
      " 26%|██▋       | 1323/5000 [00:11<00:31, 116.89it/s]"
     ]
    },
    {
     "name": "stdout",
     "output_type": "stream",
     "text": [
      "Epoch 1300/5000, Training Loss: 0.0000\n"
     ]
    },
    {
     "name": "stderr",
     "output_type": "stream",
     "text": [
      " 28%|██▊       | 1419/5000 [00:12<00:31, 114.95it/s]"
     ]
    },
    {
     "name": "stdout",
     "output_type": "stream",
     "text": [
      "Epoch 1400/5000, Training Loss: 0.0000\n"
     ]
    },
    {
     "name": "stderr",
     "output_type": "stream",
     "text": [
      " 30%|███       | 1515/5000 [00:13<00:30, 116.09it/s]"
     ]
    },
    {
     "name": "stdout",
     "output_type": "stream",
     "text": [
      "Epoch 1500/5000, Training Loss: 0.0000\n"
     ]
    },
    {
     "name": "stderr",
     "output_type": "stream",
     "text": [
      " 32%|███▏      | 1624/5000 [00:14<00:28, 117.85it/s]"
     ]
    },
    {
     "name": "stdout",
     "output_type": "stream",
     "text": [
      "Epoch 1600/5000, Training Loss: 0.0000\n"
     ]
    },
    {
     "name": "stderr",
     "output_type": "stream",
     "text": [
      " 34%|███▍      | 1720/5000 [00:15<00:28, 116.87it/s]"
     ]
    },
    {
     "name": "stdout",
     "output_type": "stream",
     "text": [
      "Epoch 1700/5000, Training Loss: 0.0000\n"
     ]
    },
    {
     "name": "stderr",
     "output_type": "stream",
     "text": [
      " 36%|███▋      | 1818/5000 [00:16<00:26, 119.41it/s]"
     ]
    },
    {
     "name": "stdout",
     "output_type": "stream",
     "text": [
      "Epoch 1800/5000, Training Loss: 0.0004\n"
     ]
    },
    {
     "name": "stderr",
     "output_type": "stream",
     "text": [
      " 38%|███▊      | 1914/5000 [00:16<00:26, 117.85it/s]"
     ]
    },
    {
     "name": "stdout",
     "output_type": "stream",
     "text": [
      "Epoch 1900/5000, Training Loss: 0.0003\n"
     ]
    },
    {
     "name": "stderr",
     "output_type": "stream",
     "text": [
      " 40%|████      | 2023/5000 [00:17<00:24, 119.56it/s]"
     ]
    },
    {
     "name": "stdout",
     "output_type": "stream",
     "text": [
      "Epoch 2000/5000, Training Loss: 0.0000\n"
     ]
    },
    {
     "name": "stderr",
     "output_type": "stream",
     "text": [
      " 42%|████▏     | 2119/5000 [00:18<00:24, 118.55it/s]"
     ]
    },
    {
     "name": "stdout",
     "output_type": "stream",
     "text": [
      "Epoch 2100/5000, Training Loss: 0.0001\n"
     ]
    },
    {
     "name": "stderr",
     "output_type": "stream",
     "text": [
      " 44%|████▍     | 2215/5000 [00:19<00:24, 113.08it/s]"
     ]
    },
    {
     "name": "stdout",
     "output_type": "stream",
     "text": [
      "Epoch 2200/5000, Training Loss: 0.0000\n"
     ]
    },
    {
     "name": "stderr",
     "output_type": "stream",
     "text": [
      " 46%|████▋     | 2323/5000 [00:20<00:22, 116.52it/s]"
     ]
    },
    {
     "name": "stdout",
     "output_type": "stream",
     "text": [
      "Epoch 2300/5000, Training Loss: 0.0000\n"
     ]
    },
    {
     "name": "stderr",
     "output_type": "stream",
     "text": [
      " 48%|████▊     | 2419/5000 [00:21<00:21, 117.59it/s]"
     ]
    },
    {
     "name": "stdout",
     "output_type": "stream",
     "text": [
      "Epoch 2400/5000, Training Loss: 0.0000\n"
     ]
    },
    {
     "name": "stderr",
     "output_type": "stream",
     "text": [
      " 50%|█████     | 2515/5000 [00:22<00:21, 116.94it/s]"
     ]
    },
    {
     "name": "stdout",
     "output_type": "stream",
     "text": [
      "Epoch 2500/5000, Training Loss: 0.0000\n"
     ]
    },
    {
     "name": "stderr",
     "output_type": "stream",
     "text": [
      " 52%|█████▏    | 2615/5000 [00:22<00:19, 119.90it/s]"
     ]
    },
    {
     "name": "stdout",
     "output_type": "stream",
     "text": [
      "Epoch 2600/5000, Training Loss: 0.0000\n"
     ]
    },
    {
     "name": "stderr",
     "output_type": "stream",
     "text": [
      " 54%|█████▍    | 2713/5000 [00:23<00:19, 119.73it/s]"
     ]
    },
    {
     "name": "stdout",
     "output_type": "stream",
     "text": [
      "Epoch 2700/5000, Training Loss: 0.0009\n"
     ]
    },
    {
     "name": "stderr",
     "output_type": "stream",
     "text": [
      " 56%|█████▋    | 2821/5000 [00:24<00:18, 115.74it/s]"
     ]
    },
    {
     "name": "stdout",
     "output_type": "stream",
     "text": [
      "Epoch 2800/5000, Training Loss: 0.0000\n"
     ]
    },
    {
     "name": "stderr",
     "output_type": "stream",
     "text": [
      " 58%|█████▊    | 2917/5000 [00:25<00:18, 114.93it/s]"
     ]
    },
    {
     "name": "stdout",
     "output_type": "stream",
     "text": [
      "Epoch 2900/5000, Training Loss: 0.0001\n"
     ]
    },
    {
     "name": "stderr",
     "output_type": "stream",
     "text": [
      " 60%|██████    | 3013/5000 [00:26<00:17, 115.66it/s]"
     ]
    },
    {
     "name": "stdout",
     "output_type": "stream",
     "text": [
      "Epoch 3000/5000, Training Loss: 0.0009\n"
     ]
    },
    {
     "name": "stderr",
     "output_type": "stream",
     "text": [
      " 62%|██████▏   | 3121/5000 [00:27<00:16, 114.80it/s]"
     ]
    },
    {
     "name": "stdout",
     "output_type": "stream",
     "text": [
      "Epoch 3100/5000, Training Loss: 0.0005\n"
     ]
    },
    {
     "name": "stderr",
     "output_type": "stream",
     "text": [
      " 64%|██████▍   | 3217/5000 [00:28<00:15, 115.02it/s]"
     ]
    },
    {
     "name": "stdout",
     "output_type": "stream",
     "text": [
      "Epoch 3200/5000, Training Loss: 0.0002\n"
     ]
    },
    {
     "name": "stderr",
     "output_type": "stream",
     "text": [
      " 66%|██████▋   | 3313/5000 [00:28<00:14, 114.31it/s]"
     ]
    },
    {
     "name": "stdout",
     "output_type": "stream",
     "text": [
      "Epoch 3300/5000, Training Loss: 0.0000\n"
     ]
    },
    {
     "name": "stderr",
     "output_type": "stream",
     "text": [
      " 68%|██████▊   | 3422/5000 [00:29<00:13, 115.73it/s]"
     ]
    },
    {
     "name": "stdout",
     "output_type": "stream",
     "text": [
      "Epoch 3400/5000, Training Loss: 0.0000\n"
     ]
    },
    {
     "name": "stderr",
     "output_type": "stream",
     "text": [
      " 70%|███████   | 3518/5000 [00:30<00:12, 116.40it/s]"
     ]
    },
    {
     "name": "stdout",
     "output_type": "stream",
     "text": [
      "Epoch 3500/5000, Training Loss: 0.0000\n"
     ]
    },
    {
     "name": "stderr",
     "output_type": "stream",
     "text": [
      " 72%|███████▏  | 3614/5000 [00:31<00:12, 113.03it/s]"
     ]
    },
    {
     "name": "stdout",
     "output_type": "stream",
     "text": [
      "Epoch 3600/5000, Training Loss: 0.0000\n"
     ]
    },
    {
     "name": "stderr",
     "output_type": "stream",
     "text": [
      " 74%|███████▍  | 3722/5000 [00:32<00:11, 114.00it/s]"
     ]
    },
    {
     "name": "stdout",
     "output_type": "stream",
     "text": [
      "Epoch 3700/5000, Training Loss: 0.0006\n"
     ]
    },
    {
     "name": "stderr",
     "output_type": "stream",
     "text": [
      " 76%|███████▋  | 3818/5000 [00:33<00:10, 113.45it/s]"
     ]
    },
    {
     "name": "stdout",
     "output_type": "stream",
     "text": [
      "Epoch 3800/5000, Training Loss: 0.0000\n"
     ]
    },
    {
     "name": "stderr",
     "output_type": "stream",
     "text": [
      " 78%|███████▊  | 3914/5000 [00:34<00:09, 117.47it/s]"
     ]
    },
    {
     "name": "stdout",
     "output_type": "stream",
     "text": [
      "Epoch 3900/5000, Training Loss: 0.0000\n"
     ]
    },
    {
     "name": "stderr",
     "output_type": "stream",
     "text": [
      " 80%|████████  | 4022/5000 [00:35<00:08, 116.68it/s]"
     ]
    },
    {
     "name": "stdout",
     "output_type": "stream",
     "text": [
      "Epoch 4000/5000, Training Loss: 0.0000\n"
     ]
    },
    {
     "name": "stderr",
     "output_type": "stream",
     "text": [
      " 82%|████████▏ | 4118/5000 [00:35<00:07, 114.89it/s]"
     ]
    },
    {
     "name": "stdout",
     "output_type": "stream",
     "text": [
      "Epoch 4100/5000, Training Loss: 0.0000\n"
     ]
    },
    {
     "name": "stderr",
     "output_type": "stream",
     "text": [
      " 84%|████████▍ | 4214/5000 [00:36<00:06, 116.12it/s]"
     ]
    },
    {
     "name": "stdout",
     "output_type": "stream",
     "text": [
      "Epoch 4200/5000, Training Loss: 0.0008\n"
     ]
    },
    {
     "name": "stderr",
     "output_type": "stream",
     "text": [
      " 86%|████████▋ | 4322/5000 [00:37<00:05, 115.40it/s]"
     ]
    },
    {
     "name": "stdout",
     "output_type": "stream",
     "text": [
      "Epoch 4300/5000, Training Loss: 0.0002\n"
     ]
    },
    {
     "name": "stderr",
     "output_type": "stream",
     "text": [
      " 88%|████████▊ | 4418/5000 [00:38<00:04, 116.95it/s]"
     ]
    },
    {
     "name": "stdout",
     "output_type": "stream",
     "text": [
      "Epoch 4400/5000, Training Loss: 0.0000\n"
     ]
    },
    {
     "name": "stderr",
     "output_type": "stream",
     "text": [
      " 90%|█████████ | 4514/5000 [00:39<00:04, 114.90it/s]"
     ]
    },
    {
     "name": "stdout",
     "output_type": "stream",
     "text": [
      "Epoch 4500/5000, Training Loss: 0.0000\n"
     ]
    },
    {
     "name": "stderr",
     "output_type": "stream",
     "text": [
      " 92%|█████████▏| 4623/5000 [00:40<00:03, 116.65it/s]"
     ]
    },
    {
     "name": "stdout",
     "output_type": "stream",
     "text": [
      "Epoch 4600/5000, Training Loss: 0.0000\n"
     ]
    },
    {
     "name": "stderr",
     "output_type": "stream",
     "text": [
      " 94%|█████████▍| 4719/5000 [00:41<00:02, 112.62it/s]"
     ]
    },
    {
     "name": "stdout",
     "output_type": "stream",
     "text": [
      "Epoch 4700/5000, Training Loss: 0.0000\n"
     ]
    },
    {
     "name": "stderr",
     "output_type": "stream",
     "text": [
      " 96%|█████████▋| 4815/5000 [00:41<00:01, 114.36it/s]"
     ]
    },
    {
     "name": "stdout",
     "output_type": "stream",
     "text": [
      "Epoch 4800/5000, Training Loss: 0.0000\n"
     ]
    },
    {
     "name": "stderr",
     "output_type": "stream",
     "text": [
      " 98%|█████████▊| 4923/5000 [00:42<00:00, 113.80it/s]"
     ]
    },
    {
     "name": "stdout",
     "output_type": "stream",
     "text": [
      "Epoch 4900/5000, Training Loss: 0.0000\n"
     ]
    },
    {
     "name": "stderr",
     "output_type": "stream",
     "text": [
      "100%|██████████| 5000/5000 [00:43<00:00, 114.83it/s]\n"
     ]
    },
    {
     "data": {
      "image/png": "[encoded data removed]",
      "text/plain": [
       "<Figure size 640x480 with 1 Axes>"
      ]
     },
     "metadata": {},
     "output_type": "display_data"
    }
   ],
   "source": [
    "# Define the model we wish to use, and train it.\n",
    "device = torch.device('cuda' if torch.cuda.is_available() else 'cpu')\n",
    "\n",
    "model = LinearRegressor(3, 1)\n",
    "model.to(device)\n",
    "\n",
    "train(model, data_train, data_val, device)"
   ]
  },
  {
   "cell_type": "markdown",
   "metadata": {
    "id": "sw--ClBtnYHV"
   },
   "source": [
    "## Here is some code for getting the parameters of the model."
   ]
  },
  {
   "cell_type": "code",
   "execution_count": 17,
   "metadata": {
    "id": "5hfTNlIjTNCV"
   },
   "outputs": [
    {
     "name": "stdout",
     "output_type": "stream",
     "text": [
      "linear.weight tensor([[ 0.9998, -1.0001,  1.9996]], device='cuda:0')\n",
      "linear.bias tensor([-0.0002], device='cuda:0')\n"
     ]
    },
    {
     "data": {
      "text/plain": [
       "'\\nfor name, param in model.named_parameters():\\n    if param.requires_grad:\\n        print (name, param.data)\\n'"
      ]
     },
     "execution_count": 17,
     "metadata": {},
     "output_type": "execute_result"
    }
   ],
   "source": [
    "# Now let's get the model parameters.\n",
    "# We can see that we have succeeded in learning beta: [1,-1,2]\n",
    "for name, param in model.named_parameters():\n",
    "  print (name, param.data)\n",
    "\n",
    "# If we wanted to, we could also only print the ones that we update (may be useful for more complex models)\n",
    "\"\"\"\n",
    "for name, param in model.named_parameters():\n",
    "    if param.requires_grad:\n",
    "        print (name, param.data)\n",
    "\"\"\""
   ]
  },
  {
   "cell_type": "code",
   "execution_count": 18,
   "metadata": {
    "id": "DwrvHtgIFbfl"
   },
   "outputs": [
    {
     "name": "stderr",
     "output_type": "stream",
     "text": [
      "  0%|          | 9/5000 [00:00<01:00, 82.70it/s]"
     ]
    },
    {
     "name": "stdout",
     "output_type": "stream",
     "text": [
      "Epoch 0/5000, Training Loss: 5.4979\n"
     ]
    },
    {
     "name": "stderr",
     "output_type": "stream",
     "text": [
      "  2%|▏         | 119/5000 [00:01<00:51, 94.58it/s]"
     ]
    },
    {
     "name": "stdout",
     "output_type": "stream",
     "text": [
      "Epoch 100/5000, Training Loss: 0.0000\n"
     ]
    },
    {
     "name": "stderr",
     "output_type": "stream",
     "text": [
      "  4%|▍         | 217/5000 [00:02<00:53, 89.70it/s]"
     ]
    },
    {
     "name": "stdout",
     "output_type": "stream",
     "text": [
      "Epoch 200/5000, Training Loss: 0.0000\n"
     ]
    },
    {
     "name": "stderr",
     "output_type": "stream",
     "text": [
      "  6%|▋         | 317/5000 [00:03<00:51, 91.19it/s]"
     ]
    },
    {
     "name": "stdout",
     "output_type": "stream",
     "text": [
      "Epoch 300/5000, Training Loss: 0.0000\n"
     ]
    },
    {
     "name": "stderr",
     "output_type": "stream",
     "text": [
      "  8%|▊         | 417/5000 [00:04<00:50, 91.29it/s]"
     ]
    },
    {
     "name": "stdout",
     "output_type": "stream",
     "text": [
      "Epoch 400/5000, Training Loss: 0.0000\n"
     ]
    },
    {
     "name": "stderr",
     "output_type": "stream",
     "text": [
      " 10%|█         | 517/5000 [00:05<00:48, 92.67it/s]"
     ]
    },
    {
     "name": "stdout",
     "output_type": "stream",
     "text": [
      "Epoch 500/5000, Training Loss: 0.0000\n"
     ]
    },
    {
     "name": "stderr",
     "output_type": "stream",
     "text": [
      " 12%|█▏        | 617/5000 [00:06<00:47, 92.02it/s]"
     ]
    },
    {
     "name": "stdout",
     "output_type": "stream",
     "text": [
      "Epoch 600/5000, Training Loss: 0.0000\n"
     ]
    },
    {
     "name": "stderr",
     "output_type": "stream",
     "text": [
      " 14%|█▍        | 717/5000 [00:07<00:47, 90.30it/s]"
     ]
    },
    {
     "name": "stdout",
     "output_type": "stream",
     "text": [
      "Epoch 700/5000, Training Loss: 0.0000\n"
     ]
    },
    {
     "name": "stderr",
     "output_type": "stream",
     "text": [
      " 16%|█▋        | 817/5000 [00:08<00:45, 91.97it/s]"
     ]
    },
    {
     "name": "stdout",
     "output_type": "stream",
     "text": [
      "Epoch 800/5000, Training Loss: 0.0000\n"
     ]
    },
    {
     "name": "stderr",
     "output_type": "stream",
     "text": [
      " 18%|█▊        | 917/5000 [00:09<00:44, 91.26it/s]"
     ]
    },
    {
     "name": "stdout",
     "output_type": "stream",
     "text": [
      "Epoch 900/5000, Training Loss: 0.0342\n"
     ]
    },
    {
     "name": "stderr",
     "output_type": "stream",
     "text": [
      " 20%|██        | 1017/5000 [00:11<00:43, 92.38it/s]"
     ]
    },
    {
     "name": "stdout",
     "output_type": "stream",
     "text": [
      "Epoch 1000/5000, Training Loss: 0.0000\n"
     ]
    },
    {
     "name": "stderr",
     "output_type": "stream",
     "text": [
      " 22%|██▏       | 1117/5000 [00:12<00:41, 92.58it/s]"
     ]
    },
    {
     "name": "stdout",
     "output_type": "stream",
     "text": [
      "Epoch 1100/5000, Training Loss: 0.0141\n"
     ]
    },
    {
     "name": "stderr",
     "output_type": "stream",
     "text": [
      " 24%|██▍       | 1213/5000 [00:13<00:44, 84.57it/s]"
     ]
    },
    {
     "name": "stdout",
     "output_type": "stream",
     "text": [
      "Epoch 1200/5000, Training Loss: 0.0010\n"
     ]
    },
    {
     "name": "stderr",
     "output_type": "stream",
     "text": [
      " 26%|██▋       | 1318/5000 [00:14<00:39, 93.24it/s]"
     ]
    },
    {
     "name": "stdout",
     "output_type": "stream",
     "text": [
      "Epoch 1300/5000, Training Loss: 0.0000\n"
     ]
    },
    {
     "name": "stderr",
     "output_type": "stream",
     "text": [
      " 28%|██▊       | 1418/5000 [00:15<00:37, 94.78it/s]"
     ]
    },
    {
     "name": "stdout",
     "output_type": "stream",
     "text": [
      "Epoch 1400/5000, Training Loss: 0.0000\n"
     ]
    },
    {
     "name": "stderr",
     "output_type": "stream",
     "text": [
      " 30%|███       | 1518/5000 [00:16<00:37, 93.60it/s]"
     ]
    },
    {
     "name": "stdout",
     "output_type": "stream",
     "text": [
      "Epoch 1500/5000, Training Loss: 0.0000\n"
     ]
    },
    {
     "name": "stderr",
     "output_type": "stream",
     "text": [
      " 32%|███▏      | 1618/5000 [00:17<00:35, 95.26it/s]"
     ]
    },
    {
     "name": "stdout",
     "output_type": "stream",
     "text": [
      "Epoch 1600/5000, Training Loss: 0.0000\n"
     ]
    },
    {
     "name": "stderr",
     "output_type": "stream",
     "text": [
      " 34%|███▍      | 1718/5000 [00:18<00:35, 93.29it/s]"
     ]
    },
    {
     "name": "stdout",
     "output_type": "stream",
     "text": [
      "Epoch 1700/5000, Training Loss: 0.0000\n"
     ]
    },
    {
     "name": "stderr",
     "output_type": "stream",
     "text": [
      " 36%|███▋      | 1818/5000 [00:19<00:34, 91.58it/s]"
     ]
    },
    {
     "name": "stdout",
     "output_type": "stream",
     "text": [
      "Epoch 1800/5000, Training Loss: 0.0002\n"
     ]
    },
    {
     "name": "stderr",
     "output_type": "stream",
     "text": [
      " 38%|███▊      | 1918/5000 [00:20<00:34, 90.30it/s]"
     ]
    },
    {
     "name": "stdout",
     "output_type": "stream",
     "text": [
      "Epoch 1900/5000, Training Loss: 0.0000\n"
     ]
    },
    {
     "name": "stderr",
     "output_type": "stream",
     "text": [
      " 40%|████      | 2018/5000 [00:21<00:32, 92.32it/s]"
     ]
    },
    {
     "name": "stdout",
     "output_type": "stream",
     "text": [
      "Epoch 2000/5000, Training Loss: 0.0000\n"
     ]
    },
    {
     "name": "stderr",
     "output_type": "stream",
     "text": [
      " 42%|████▏     | 2118/5000 [00:23<00:30, 95.20it/s]"
     ]
    },
    {
     "name": "stdout",
     "output_type": "stream",
     "text": [
      "Epoch 2100/5000, Training Loss: 0.0000\n"
     ]
    },
    {
     "name": "stderr",
     "output_type": "stream",
     "text": [
      " 44%|████▍     | 2219/5000 [00:24<00:29, 95.36it/s]"
     ]
    },
    {
     "name": "stdout",
     "output_type": "stream",
     "text": [
      "Epoch 2200/5000, Training Loss: 0.0004\n"
     ]
    },
    {
     "name": "stderr",
     "output_type": "stream",
     "text": [
      " 46%|████▋     | 2319/5000 [00:25<00:28, 95.20it/s]"
     ]
    },
    {
     "name": "stdout",
     "output_type": "stream",
     "text": [
      "Epoch 2300/5000, Training Loss: 0.0000\n"
     ]
    },
    {
     "name": "stderr",
     "output_type": "stream",
     "text": [
      " 48%|████▊     | 2419/5000 [00:26<00:27, 95.23it/s]"
     ]
    },
    {
     "name": "stdout",
     "output_type": "stream",
     "text": [
      "Epoch 2400/5000, Training Loss: 0.0000\n"
     ]
    },
    {
     "name": "stderr",
     "output_type": "stream",
     "text": [
      " 50%|█████     | 2519/5000 [00:27<00:25, 96.59it/s]"
     ]
    },
    {
     "name": "stdout",
     "output_type": "stream",
     "text": [
      "Epoch 2500/5000, Training Loss: 0.0000\n"
     ]
    },
    {
     "name": "stderr",
     "output_type": "stream",
     "text": [
      " 52%|█████▏    | 2619/5000 [00:28<00:24, 95.57it/s]"
     ]
    },
    {
     "name": "stdout",
     "output_type": "stream",
     "text": [
      "Epoch 2600/5000, Training Loss: 0.0000\n"
     ]
    },
    {
     "name": "stderr",
     "output_type": "stream",
     "text": [
      " 54%|█████▍    | 2719/5000 [00:29<00:23, 97.92it/s]"
     ]
    },
    {
     "name": "stdout",
     "output_type": "stream",
     "text": [
      "Epoch 2700/5000, Training Loss: 0.0000\n"
     ]
    },
    {
     "name": "stderr",
     "output_type": "stream",
     "text": [
      " 56%|█████▋    | 2819/5000 [00:30<00:22, 97.03it/s]"
     ]
    },
    {
     "name": "stdout",
     "output_type": "stream",
     "text": [
      "Epoch 2800/5000, Training Loss: 0.0000\n"
     ]
    },
    {
     "name": "stderr",
     "output_type": "stream",
     "text": [
      " 58%|█████▊    | 2919/5000 [00:31<00:21, 96.93it/s]"
     ]
    },
    {
     "name": "stdout",
     "output_type": "stream",
     "text": [
      "Epoch 2900/5000, Training Loss: 0.0000\n"
     ]
    },
    {
     "name": "stderr",
     "output_type": "stream",
     "text": [
      " 60%|██████    | 3019/5000 [00:32<00:20, 97.91it/s]"
     ]
    },
    {
     "name": "stdout",
     "output_type": "stream",
     "text": [
      "Epoch 3000/5000, Training Loss: 0.0000\n"
     ]
    },
    {
     "name": "stderr",
     "output_type": "stream",
     "text": [
      " 62%|██████▏   | 3120/5000 [00:33<00:18, 99.12it/s]"
     ]
    },
    {
     "name": "stdout",
     "output_type": "stream",
     "text": [
      "Epoch 3100/5000, Training Loss: 0.0000\n"
     ]
    },
    {
     "name": "stderr",
     "output_type": "stream",
     "text": [
      " 64%|██████▍   | 3220/5000 [00:34<00:18, 97.60it/s]"
     ]
    },
    {
     "name": "stdout",
     "output_type": "stream",
     "text": [
      "Epoch 3200/5000, Training Loss: 0.0000\n"
     ]
    },
    {
     "name": "stderr",
     "output_type": "stream",
     "text": [
      " 66%|██████▋   | 3320/5000 [00:35<00:17, 96.66it/s]"
     ]
    },
    {
     "name": "stdout",
     "output_type": "stream",
     "text": [
      "Epoch 3300/5000, Training Loss: 0.0148\n"
     ]
    },
    {
     "name": "stderr",
     "output_type": "stream",
     "text": [
      " 68%|██████▊   | 3420/5000 [00:36<00:16, 95.03it/s]"
     ]
    },
    {
     "name": "stdout",
     "output_type": "stream",
     "text": [
      "Epoch 3400/5000, Training Loss: 0.0000\n"
     ]
    },
    {
     "name": "stderr",
     "output_type": "stream",
     "text": [
      " 70%|███████   | 3520/5000 [00:37<00:15, 97.25it/s]"
     ]
    },
    {
     "name": "stdout",
     "output_type": "stream",
     "text": [
      "Epoch 3500/5000, Training Loss: 0.0000\n"
     ]
    },
    {
     "name": "stderr",
     "output_type": "stream",
     "text": [
      " 72%|███████▏  | 3620/5000 [00:38<00:14, 96.17it/s]"
     ]
    },
    {
     "name": "stdout",
     "output_type": "stream",
     "text": [
      "Epoch 3600/5000, Training Loss: 0.0000\n"
     ]
    },
    {
     "name": "stderr",
     "output_type": "stream",
     "text": [
      " 74%|███████▍  | 3720/5000 [00:39<00:13, 96.03it/s]"
     ]
    },
    {
     "name": "stdout",
     "output_type": "stream",
     "text": [
      "Epoch 3700/5000, Training Loss: 0.0012\n"
     ]
    },
    {
     "name": "stderr",
     "output_type": "stream",
     "text": [
      " 76%|███████▋  | 3820/5000 [00:40<00:12, 95.24it/s]"
     ]
    },
    {
     "name": "stdout",
     "output_type": "stream",
     "text": [
      "Epoch 3800/5000, Training Loss: 0.0117\n"
     ]
    },
    {
     "name": "stderr",
     "output_type": "stream",
     "text": [
      " 78%|███████▊  | 3920/5000 [00:41<00:11, 95.33it/s]"
     ]
    },
    {
     "name": "stdout",
     "output_type": "stream",
     "text": [
      "Epoch 3900/5000, Training Loss: 0.0000\n"
     ]
    },
    {
     "name": "stderr",
     "output_type": "stream",
     "text": [
      " 80%|████████  | 4020/5000 [00:42<00:09, 98.50it/s]"
     ]
    },
    {
     "name": "stdout",
     "output_type": "stream",
     "text": [
      "Epoch 4000/5000, Training Loss: 0.0000\n"
     ]
    },
    {
     "name": "stderr",
     "output_type": "stream",
     "text": [
      " 82%|████████▏ | 4120/5000 [00:43<00:09, 95.55it/s]"
     ]
    },
    {
     "name": "stdout",
     "output_type": "stream",
     "text": [
      "Epoch 4100/5000, Training Loss: 0.0084\n"
     ]
    },
    {
     "name": "stderr",
     "output_type": "stream",
     "text": [
      " 84%|████████▍ | 4220/5000 [00:44<00:08, 96.85it/s]"
     ]
    },
    {
     "name": "stdout",
     "output_type": "stream",
     "text": [
      "Epoch 4200/5000, Training Loss: 0.0000\n"
     ]
    },
    {
     "name": "stderr",
     "output_type": "stream",
     "text": [
      " 86%|████████▌ | 4310/5000 [00:45<00:07, 95.93it/s]"
     ]
    },
    {
     "name": "stdout",
     "output_type": "stream",
     "text": [
      "Epoch 4300/5000, Training Loss: 0.0000\n"
     ]
    },
    {
     "name": "stderr",
     "output_type": "stream",
     "text": [
      " 88%|████████▊ | 4420/5000 [00:46<00:06, 95.54it/s]"
     ]
    },
    {
     "name": "stdout",
     "output_type": "stream",
     "text": [
      "Epoch 4400/5000, Training Loss: 0.0000\n"
     ]
    },
    {
     "name": "stderr",
     "output_type": "stream",
     "text": [
      " 90%|█████████ | 4510/5000 [00:47<00:05, 93.97it/s]"
     ]
    },
    {
     "name": "stdout",
     "output_type": "stream",
     "text": [
      "Epoch 4500/5000, Training Loss: 0.0001\n"
     ]
    },
    {
     "name": "stderr",
     "output_type": "stream",
     "text": [
      " 92%|█████████▏| 4620/5000 [00:48<00:03, 98.08it/s]"
     ]
    },
    {
     "name": "stdout",
     "output_type": "stream",
     "text": [
      "Epoch 4600/5000, Training Loss: 0.0000\n"
     ]
    },
    {
     "name": "stderr",
     "output_type": "stream",
     "text": [
      " 94%|█████████▍| 4720/5000 [00:50<00:02, 98.11it/s]"
     ]
    },
    {
     "name": "stdout",
     "output_type": "stream",
     "text": [
      "Epoch 4700/5000, Training Loss: 0.0000\n"
     ]
    },
    {
     "name": "stderr",
     "output_type": "stream",
     "text": [
      " 96%|█████████▋| 4820/5000 [00:51<00:01, 95.84it/s]"
     ]
    },
    {
     "name": "stdout",
     "output_type": "stream",
     "text": [
      "Epoch 4800/5000, Training Loss: 0.0000\n"
     ]
    },
    {
     "name": "stderr",
     "output_type": "stream",
     "text": [
      " 98%|█████████▊| 4910/5000 [00:52<00:00, 94.03it/s]"
     ]
    },
    {
     "name": "stdout",
     "output_type": "stream",
     "text": [
      "Epoch 4900/5000, Training Loss: 0.0000\n"
     ]
    },
    {
     "name": "stderr",
     "output_type": "stream",
     "text": [
      "100%|██████████| 5000/5000 [00:52<00:00, 94.36it/s]\n"
     ]
    },
    {
     "data": {
      "image/png": "[encoded data removed]",
      "text/plain": [
       "<Figure size 640x480 with 1 Axes>"
      ]
     },
     "metadata": {},
     "output_type": "display_data"
    }
   ],
   "source": [
    "# Now let's move to our second model: the two layer linear regressor.\n",
    "# We again define the model using the class we created.\n",
    "# Then we train the model, as above.\n",
    "\n",
    "device = torch.device('cuda' if torch.cuda.is_available() else 'cpu')\n",
    "\n",
    "model2 = TwoLayerLinearRegressor(3, 1)\n",
    "model2.to(device)\n",
    "\n",
    "train(model2, data_train, data_val, device)"
   ]
  },
  {
   "cell_type": "code",
   "execution_count": 19,
   "metadata": {
    "id": "priZSqzc1wrW"
   },
   "outputs": [
    {
     "name": "stdout",
     "output_type": "stream",
     "text": [
      "Ground Truth:\n",
      " [-2.15587179  0.78041724  0.7263875  -2.81503132 -4.01441839  0.76293505\n",
      " -3.46710488  1.74396753 -0.09306204  1.75506386 -0.96785593 -2.02715567\n",
      "  0.52644118  3.99527146  2.96839432]\n",
      "Model Output:\n",
      " [tensor([-2.1563], device='cuda:0', grad_fn=<ViewBackward0>), tensor([0.7802], device='cuda:0', grad_fn=<ViewBackward0>), tensor([0.7262], device='cuda:0', grad_fn=<ViewBackward0>), tensor([-2.8155], device='cuda:0', grad_fn=<ViewBackward0>), tensor([-4.0150], device='cuda:0', grad_fn=<ViewBackward0>), tensor([0.7627], device='cuda:0', grad_fn=<ViewBackward0>), tensor([-3.4676], device='cuda:0', grad_fn=<ViewBackward0>), tensor([1.7438], device='cuda:0', grad_fn=<ViewBackward0>), tensor([-0.0934], device='cuda:0', grad_fn=<ViewBackward0>), tensor([1.7548], device='cuda:0', grad_fn=<ViewBackward0>), tensor([-0.9682], device='cuda:0', grad_fn=<ViewBackward0>), tensor([-2.0275], device='cuda:0', grad_fn=<ViewBackward0>), tensor([0.5262], device='cuda:0', grad_fn=<ViewBackward0>), tensor([3.9952], device='cuda:0', grad_fn=<ViewBackward0>), tensor([2.9683], device='cuda:0', grad_fn=<ViewBackward0>)]\n"
     ]
    }
   ],
   "source": [
    "# Let's see how well this model agrees with the training data\n",
    "output_values = evaluate_model(model2,data_val,device)\n",
    "print('Ground Truth:\\n',Y)\n",
    "print('Model Output:\\n',output_values)"
   ]
  },
  {
   "cell_type": "markdown",
   "metadata": {
    "id": "d-oOdWV8C8Nu"
   },
   "source": [
    "# The XOR Data Set\n",
    "We see that linear layers do not suffice."
   ]
  },
  {
   "cell_type": "code",
   "execution_count": 20,
   "metadata": {
    "id": "8Qk0d0DUzt1d"
   },
   "outputs": [
    {
     "name": "stdout",
     "output_type": "stream",
     "text": [
      "These are the labels:\n",
      " [0 1 1 0]\n",
      "These are the features:\n",
      " [[0 0]\n",
      " [0 1]\n",
      " [1 0]\n",
      " [1 1]]\n"
     ]
    }
   ],
   "source": [
    "\"\"\"\n",
    "Here we create the simple XOR data set an a numpy array.\n",
    "Then we make X and Y into tensor objects that torch uses,\n",
    "and we package it into a Dataset object called data.\n",
    "Then we create a DataLoader.\n",
    "\"\"\"\n",
    "\n",
    "Xxor = np.array([[0,0],[0,1],[1,0],[1,1]])\n",
    "Yxor = np.array([0,1,1,0])\n",
    "tensor_xxor = torch.Tensor(Xxor) # transform to torch tensor\n",
    "tensor_yxor = torch.Tensor(Yxor)\n",
    "print('These are the labels:\\n',Yxor)\n",
    "print('These are the features:\\n',Xxor)\n",
    "\n",
    "dataxor = TensorDataset(tensor_xxor,tensor_yxor) # create your datset\n",
    "dataxor_train = DataLoader(dataxor) # create your dataloader with training data\n",
    "dataxor_val = DataLoader(dataxor) # create your dataloader with validation data, here same as training"
   ]
  },
  {
   "cell_type": "markdown",
   "metadata": {
    "id": "CZngJgatnmr2"
   },
   "source": [
    "## Problem 9\n",
    "\n",
    "Train your linear regressor on these data. Now see how well you do, by evaluating your solution on the training data.\n",
    "\n",
    "Print your output. Do you get the right values?"
   ]
  },
  {
   "cell_type": "code",
   "execution_count": 21,
   "metadata": {
    "id": "8KJ5-QW8-q1I"
   },
   "outputs": [
    {
     "data": {
      "text/plain": [
       "LinearRegressor(\n",
       "  (linear): Linear(in_features=2, out_features=1, bias=True)\n",
       ")"
      ]
     },
     "execution_count": 21,
     "metadata": {},
     "output_type": "execute_result"
    }
   ],
   "source": [
    "# Now we train a linear classifier on these data.\n",
    "# We know (and can verify) that this will fail because no linear classifier can succeed\n",
    "\n",
    "device = torch.device('cuda' if torch.cuda.is_available() else 'cpu')\n",
    "\n",
    "model3 = LinearRegressor(2,1)\n",
    "model3.to(device)\n",
    "\n",
    "# TO DO -- give a command to train your model\n",
    "# TO DO -- give a command to evaluate your model\n",
    "# TO DO -- print the ground truth, and then also print what your model predicts for the 4 points in the training set."
   ]
  },
  {
   "cell_type": "code",
   "execution_count": 22,
   "metadata": {},
   "outputs": [],
   "source": [
    "def train(model, data_train, device, lr=0.01, epochs=1000):\n",
    "    \"\"\"\n",
    "    Train the model on XOR data.\n",
    "\n",
    "    Input:\n",
    "      model (torch.nn.Module): the model to train\n",
    "      data_train (torch.utils.data.DataLoader): yields batches of data\n",
    "      device (torch.device): which device to use to perform computation\n",
    "      lr (float): learning rate\n",
    "      epochs (int): number of epochs\n",
    "    \"\"\"\n",
    "    loss_function = torch.nn.MSELoss()\n",
    "    optimizer = torch.optim.Adam(model.parameters(), lr=lr)\n",
    "    training_losses = []\n",
    "\n",
    "    for epoch in tqdm(range(epochs)):\n",
    "        model.train()\n",
    "        epoch_loss = 0.0\n",
    "\n",
    "        for x_batch, y_batch in data_train:\n",
    "            x_batch = x_batch.to(device)\n",
    "            y_batch = y_batch.to(device)\n",
    "\n",
    "            # Forward pass\n",
    "            output = model(x_batch)\n",
    "            loss = loss_function(output, y_batch)\n",
    "\n",
    "            # Backward pass and optimization\n",
    "            optimizer.zero_grad()\n",
    "            loss.backward()\n",
    "            optimizer.step()\n",
    "\n",
    "            # Accumulate loss for this epoch\n",
    "            epoch_loss += loss.item()\n",
    "\n",
    "        # Average epoch loss and add to list for plotting\n",
    "        average_epoch_loss = epoch_loss / len(data_train)\n",
    "        training_losses.append(average_epoch_loss)\n",
    "\n",
    "        # Print loss every 100 epochs\n",
    "        if (epoch + 1) % 100 == 0:\n",
    "            print(f\"Epoch {epoch + 1}/{epochs}, Training Loss: {average_epoch_loss:.4f}\")\n",
    "\n",
    "    # Plot training loss\n",
    "    plt.plot(training_losses, label=\"Training Loss\")\n",
    "    plt.xlabel(\"Epochs\")\n",
    "    plt.ylabel(\"Mean Squared Error Loss\")\n",
    "    plt.title(\"Training Loss over Epochs\")\n",
    "    plt.legend()\n",
    "    plt.show()"
   ]
  },
  {
   "cell_type": "code",
   "execution_count": 23,
   "metadata": {},
   "outputs": [],
   "source": [
    "def evaluate(model, data_val, device):\n",
    "    \"\"\"\n",
    "    Evaluate the model on XOR data and print predictions.\n",
    "\n",
    "    Input:\n",
    "      model (torch.nn.Module): the model to evaluate\n",
    "      data_val (torch.utils.data.DataLoader): yields batches of validation data\n",
    "      device (torch.device): which device to use to perform computation\n",
    "    \"\"\"\n",
    "    model.eval()\n",
    "    predictions = []\n",
    "    ground_truth = []\n",
    "\n",
    "    with torch.no_grad():\n",
    "        for x_val, y_val in data_val:\n",
    "            x_val = x_val.to(device)\n",
    "            y_val = y_val.to(device)\n",
    "            pred = model(x_val)\n",
    "            predictions.append(pred.item())\n",
    "            ground_truth.append(y_val.item())\n",
    "\n",
    "    # Print ground truth and predictions\n",
    "    print(\"\\nGround Truth Labels:\", ground_truth)\n",
    "    print(\"Model Predictions:\", predictions)\n"
   ]
  },
  {
   "cell_type": "code",
   "execution_count": 24,
   "metadata": {},
   "outputs": [
    {
     "name": "stderr",
     "output_type": "stream",
     "text": [
      " 18%|█▊        | 183/1000 [00:00<00:01, 465.52it/s]"
     ]
    },
    {
     "name": "stdout",
     "output_type": "stream",
     "text": [
      "Epoch 100/1000, Training Loss: 0.2614\n"
     ]
    },
    {
     "name": "stderr",
     "output_type": "stream",
     "text": [
      " 28%|██▊       | 280/1000 [00:00<00:01, 467.13it/s]"
     ]
    },
    {
     "name": "stdout",
     "output_type": "stream",
     "text": [
      "Epoch 200/1000, Training Loss: 0.2617\n"
     ]
    },
    {
     "name": "stderr",
     "output_type": "stream",
     "text": [
      " 38%|███▊      | 375/1000 [00:00<00:01, 468.72it/s]"
     ]
    },
    {
     "name": "stdout",
     "output_type": "stream",
     "text": [
      "Epoch 300/1000, Training Loss: 0.2618\n"
     ]
    },
    {
     "name": "stderr",
     "output_type": "stream",
     "text": [
      " 48%|████▊     | 476/1000 [00:01<00:01, 486.08it/s]"
     ]
    },
    {
     "name": "stdout",
     "output_type": "stream",
     "text": [
      "Epoch 400/1000, Training Loss: 0.2618\n",
      "Epoch 500/1000, Training Loss: 0.2618\n"
     ]
    },
    {
     "name": "stderr",
     "output_type": "stream",
     "text": [
      " 69%|██████▉   | 693/1000 [00:01<00:00, 524.32it/s]"
     ]
    },
    {
     "name": "stdout",
     "output_type": "stream",
     "text": [
      "Epoch 600/1000, Training Loss: 0.2619\n",
      "Epoch 700/1000, Training Loss: 0.2619\n"
     ]
    },
    {
     "name": "stderr",
     "output_type": "stream",
     "text": [
      " 91%|█████████ | 910/1000 [00:01<00:00, 537.95it/s]"
     ]
    },
    {
     "name": "stdout",
     "output_type": "stream",
     "text": [
      "Epoch 800/1000, Training Loss: 0.2619\n",
      "Epoch 900/1000, Training Loss: 0.2619\n"
     ]
    },
    {
     "name": "stderr",
     "output_type": "stream",
     "text": [
      "100%|██████████| 1000/1000 [00:01<00:00, 503.13it/s]\n"
     ]
    },
    {
     "name": "stdout",
     "output_type": "stream",
     "text": [
      "Epoch 1000/1000, Training Loss: 0.2619\n"
     ]
    },
    {
     "data": {
      "image/png": "[encoded data removed]",
      "text/plain": [
       "<Figure size 640x480 with 1 Axes>"
      ]
     },
     "metadata": {},
     "output_type": "display_data"
    },
    {
     "name": "stdout",
     "output_type": "stream",
     "text": [
      "\n",
      "Ground Truth Labels: [0.0, 1.0, 1.0, 0.0]\n",
      "Model Predictions: [0.511741042137146, 0.5057844519615173, 0.505229651927948, 0.49927306175231934]\n"
     ]
    }
   ],
   "source": [
    "train(model3, dataxor_train, device, lr=0.1, epochs=1000)\n",
    "evaluate(model3, dataxor_val, device)"
   ]
  },
  {
   "cell_type": "markdown",
   "metadata": {
    "id": "xUuz5mQY41j0"
   },
   "source": [
    "## Problem 10\n",
    "\n",
    "Now repeat this, but using both versions of your non-linear two-layer model. Thus: train both versions of your non-linear two layer models, and evaluate them on the data.\n",
    "\n",
    "Remember the values we got in class. We saw that there is a solution -- i.e., a setting for the parameters of the nonlinear model -- so that the network outputs the XOR outputs.\n",
    "\n",
    "If you got the right values, try a different random seed.\n",
    "If you didn't get the right values, try changing the random seed to see if you get something different."
   ]
  },
  {
   "cell_type": "markdown",
   "metadata": {
    "id": "OiONq3mb4_9I"
   },
   "source": [
    "## Problem 11\n",
    "\n",
    "If you did the above correctly, you will see that the values depend quite a bit on the random seed. In fact, you probably noticed that most random seeds **don't seem to work**.\n",
    "\n",
    "What is happening here is that we are getting stuck in a local minimum, and our gradient-based method used in the training loop cannot escape from it.\n",
    "\n",
    "Modify the definition of your non-linear two layer network so that the first layer of neurons (the hidden layer) has more than 2 (say, 10 or 15) neurons. Note that this means your network has more parameters.\n",
    "\n",
    "Then run it again with different seeds on the XOR training data. Is it easier (i.e., easier to find a random seed that works)?"
   ]
  },
  {
   "cell_type": "markdown",
   "metadata": {
    "id": "NPRZcvQbpL6K"
   },
   "source": [
    "## Problem 12\n",
    "\n",
    "Print the parameters of one of your non-linear models. Thus, you should print: 4 weights plus 2 bias values for the first layer, and then 2 weights plus 1 bias value for the second: 9 parameters in total."
   ]
  },
  {
   "cell_type": "code",
   "execution_count": null,
   "metadata": {
    "id": "dK_N_j31wCD1"
   },
   "outputs": [],
   "source": []
  }
 ],
 "metadata": {
  "colab": {
   "provenance": [],
   "toc_visible": true
  },
  "kernelspec": {
   "display_name": "DataScienceLab",
   "language": "python",
   "name": "python3"
  },
  "language_info": {
   "codemirror_mode": {
    "name": "ipython",
    "version": 3
   },
   "file_extension": ".py",
   "mimetype": "text/x-python",
   "name": "python",
   "nbconvert_exporter": "python",
   "pygments_lexer": "ipython3",
   "version": "3.12.3"
  }
 },
 "nbformat": 4,
 "nbformat_minor": 0
}
